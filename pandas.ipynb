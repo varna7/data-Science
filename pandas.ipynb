{
 "cells": [
  {
   "cell_type": "code",
   "execution_count": 2,
   "id": "674980a6",
   "metadata": {},
   "outputs": [],
   "source": [
    "import pandas as pd;"
   ]
  },
  {
   "cell_type": "code",
   "execution_count": 4,
   "id": "d657f9f8",
   "metadata": {},
   "outputs": [
    {
     "name": "stdout",
     "output_type": "stream",
     "text": [
      "0    12\n",
      "1    23\n",
      "2    34\n",
      "dtype: int64\n"
     ]
    }
   ],
   "source": [
    "l=[12,23,34]\n",
    "x=pd.Series(l)\n",
    "print(x)"
   ]
  },
  {
   "cell_type": "code",
   "execution_count": 6,
   "id": "3ce89b6c",
   "metadata": {},
   "outputs": [
    {
     "name": "stdout",
     "output_type": "stream",
     "text": [
      "DatetimeIndex(['2021-05-01', '2021-05-02', '2021-05-03', '2021-05-04',\n",
      "               '2021-05-05', '2021-05-06', '2021-05-07', '2021-05-08',\n",
      "               '2021-05-09', '2021-05-10', '2021-05-11', '2021-05-12'],\n",
      "              dtype='datetime64[ns]', freq='D')\n"
     ]
    }
   ],
   "source": [
    "date_series = pd.date_range(start = '05-01-2021', end = '05-12-2021')\n",
    "print(date_series)"
   ]
  },
  {
   "cell_type": "code",
   "execution_count": 8,
   "id": "8a16bb36",
   "metadata": {},
   "outputs": [
    {
     "name": "stdout",
     "output_type": "stream",
     "text": [
      "   age         job    name\n",
      "0   22    engineer   Vinay\n",
      "1   25      doctor  Kushal\n",
      "2   24  accountant    Aman\n"
     ]
    }
   ],
   "source": [
    "d = {'name': ['Vinay', 'Kushal', 'Aman'],'age' : [22, 25, 24],'job' : ['engineer', 'doctor', 'accountant']}\n",
    "df = pd.DataFrame(d)\n",
    "print(df)\n",
    "\n",
    " "
   ]
  },
  {
   "cell_type": "code",
   "execution_count": 9,
   "id": "041e26ef",
   "metadata": {},
   "outputs": [
    {
     "name": "stdout",
     "output_type": "stream",
     "text": [
      "   id    name  age\n",
      "0   2  Vishnu   22\n",
      "1   1   Kushi   25\n",
      "2   1    Amal   24\n"
     ]
    }
   ],
   "source": [
    "lists = [[2, 'Vishnu', 22],\n",
    "         [1, 'Kushi', 25],\n",
    "         [1, 'Amal', 24]]\n",
    "dataframe = pd.DataFrame(lists, columns = ['id', 'name', 'age'])\n",
    "print(dataframe)"
   ]
  },
  {
   "cell_type": "code",
   "execution_count": 11,
   "id": "b3c09055",
   "metadata": {},
   "outputs": [
    {
     "name": "stdout",
     "output_type": "stream",
     "text": [
      "   id   name\n",
      "0   1   hhhh\n",
      "1   2   kkkk\n",
      "2   3  lllll\n"
     ]
    }
   ],
   "source": [
    "data= pd.read_csv('data2.csv')\n",
    "print(data)"
   ]
  },
  {
   "cell_type": "code",
   "execution_count": 14,
   "id": "a2ea3c8f",
   "metadata": {},
   "outputs": [
    {
     "name": "stdout",
     "output_type": "stream",
     "text": [
      "   id    name  age\n",
      "0   2  Vishnu   22\n",
      "1   1   Kushi   25\n",
      "2   1    Amal   24\n",
      "\n",
      "   id    name  age\n",
      "2   1    Amal   24\n",
      "1   1   Kushi   25\n",
      "0   2  Vishnu   22\n"
     ]
    }
   ],
   "source": [
    "print(dataframe) \n",
    "print()\n",
    "data_sorted = dataframe.sort_values(by = ['name']) \n",
    "print(data_sorted)"
   ]
  }
 ],
 "metadata": {
  "kernelspec": {
   "display_name": "Python 3",
   "language": "python",
   "name": "python3"
  },
  "language_info": {
   "codemirror_mode": {
    "name": "ipython",
    "version": 3
   },
   "file_extension": ".py",
   "mimetype": "text/x-python",
   "name": "python",
   "nbconvert_exporter": "python",
   "pygments_lexer": "ipython3",
   "version": "3.5.6"
  }
 },
 "nbformat": 4,
 "nbformat_minor": 5
}
