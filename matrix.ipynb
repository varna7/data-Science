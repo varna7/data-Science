{
 "cells": [
  {
   "cell_type": "code",
   "execution_count": 8,
   "id": "1b6a9cd8",
   "metadata": {},
   "outputs": [
    {
     "name": "stdin",
     "output_type": "stream",
     "text": [
      "enter the number of rows 2\n",
      "enter the number of columns 2\n"
     ]
    },
    {
     "name": "stdout",
     "output_type": "stream",
     "text": [
      "enter elements of first matrix:\n"
     ]
    },
    {
     "name": "stdin",
     "output_type": "stream",
     "text": [
      " 1 2 3 4\n"
     ]
    },
    {
     "name": "stdout",
     "output_type": "stream",
     "text": [
      "m1:\n",
      " [[1 2]\n",
      " [3 4]]\n"
     ]
    },
    {
     "name": "stdin",
     "output_type": "stream",
     "text": [
      "enter the number of rows 2\n",
      "enter the number of columns 2\n"
     ]
    },
    {
     "name": "stdout",
     "output_type": "stream",
     "text": [
      "enter elements of second matrix:\n"
     ]
    },
    {
     "name": "stdin",
     "output_type": "stream",
     "text": [
      " 1 2 3 4\n"
     ]
    },
    {
     "name": "stdout",
     "output_type": "stream",
     "text": [
      "m2:\n",
      " [[1 2]\n",
      " [3 4]]\n",
      "dot product:\n",
      " [[ 7 10]\n",
      " [15 22]]\n",
      "transpose:\n",
      " [[1 3]\n",
      " [2 4]]\n",
      "trace:\n",
      " 5\n",
      "rank:\n",
      " 2\n",
      "determinant:\n",
      " -2.0000000000000004\n",
      "inverse:\n",
      " [[-2.   1. ]\n",
      " [ 1.5 -0.5]]\n",
      "\n",
      "E-value : \n",
      "[-0.37228132  5.37228132]\n",
      "\n",
      "E-vector : \n",
      "[[-0.82456484 -0.41597356]\n",
      " [ 0.56576746 -0.90937671]]\n"
     ]
    }
   ],
   "source": [
    "import numpy as np\n",
    "\n",
    "r1=int(input(\"enter the number of rows\"))\n",
    "c1=int(input(\"enter the number of columns\"))\n",
    "print(\"enter elements of first matrix:\")\n",
    "m1=list(map(int,input().split()))\n",
    "m1=np.array(m1).reshape(r1,c1)\n",
    "print(\"m1:\\n\",m1)\n",
    "\n",
    "r2=int(input(\"enter the number of rows\"))\n",
    "c2=int(input(\"enter the number of columns\"))\n",
    "print(\"enter elements of second matrix:\")\n",
    "m2=list(map(int,input().split()))\n",
    "m2=np.array(m1).reshape(r1,c1)\n",
    "print(\"m2:\\n\",m2)\n",
    "\n",
    "print(\"dot product:\\n\",np.dot(m1,m2))\n",
    "print(\"transpose:\\n\",m1.transpose())\n",
    "print(\"trace:\\n\",m1.trace())\n",
    "print(\"rank:\\n\",np.linalg.matrix_rank(m1))\n",
    "print(\"determinant:\\n\",np.linalg.det(m1))\n",
    "print(\"inverse:\\n\",np.linalg.inv(m1))\n",
    "\n",
    "x,y = np.linalg.eig(m1)\n",
    "print(\"\\nE-value : \")\n",
    "print(x)\n",
    "print(\"\\nE-vector : \")\n",
    "print(y)"
   ]
  }
 ],
 "metadata": {
  "kernelspec": {
   "display_name": "Python 3",
   "language": "python",
   "name": "python3"
  },
  "language_info": {
   "codemirror_mode": {
    "name": "ipython",
    "version": 3
   },
   "file_extension": ".py",
   "mimetype": "text/x-python",
   "name": "python",
   "nbconvert_exporter": "python",
   "pygments_lexer": "ipython3",
   "version": "3.5.6"
  }
 },
 "nbformat": 4,
 "nbformat_minor": 5
}
